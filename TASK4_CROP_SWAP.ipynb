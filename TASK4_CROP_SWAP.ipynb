{
 "cells": [
  {
   "cell_type": "raw",
   "id": "3230895b",
   "metadata": {},
   "source": [
    "import cv2\n",
    "import numpy\n"
   ]
  },
  {
   "cell_type": "code",
   "execution_count": 138,
   "id": "42254a31",
   "metadata": {},
   "outputs": [],
   "source": [
    "##PHOTO OF WHALE BEFORE CROP\n",
    "photo_whale=cv2.imread('whale.jpg')\n",
    "cv2.imshow('whale',photo_whale)\n",
    "cv2.waitKey()\n",
    "cv2.destroyAllWindows()"
   ]
  },
  {
   "cell_type": "code",
   "execution_count": 139,
   "id": "2d97f9d4",
   "metadata": {
    "scrolled": true
   },
   "outputs": [],
   "source": [
    "##CROPPING THE WHALE IMAGE\n",
    "whale_crop=photo_whale[140:350,200:450]\n",
    "\n"
   ]
  },
  {
   "cell_type": "code",
   "execution_count": 140,
   "id": "4c7050d4",
   "metadata": {},
   "outputs": [],
   "source": [
    "##PHOTO OF WHALE AFTER CROP\n",
    "cv2.imshow('whale_cropped',whale_crop)\n",
    "cv2.waitKey()\n",
    "cv2.destroyAllWindows()"
   ]
  },
  {
   "cell_type": "code",
   "execution_count": 141,
   "id": "def53c1b",
   "metadata": {},
   "outputs": [],
   "source": [
    "##PHOTO OF DOG BEFORE CROP\n",
    "photo_dog=cv2.imread('dog.jpg')\n",
    "cv2.imshow('dog',photo_dog)\n",
    "cv2.waitKey()\n",
    "cv2.destroyAllWindows()"
   ]
  },
  {
   "cell_type": "code",
   "execution_count": 142,
   "id": "254b7221",
   "metadata": {},
   "outputs": [],
   "source": [
    "##CROPPING THE DOG IMAGE\n",
    "dog_crop=photo_dog[90:300,150:400]\n"
   ]
  },
  {
   "cell_type": "code",
   "execution_count": 143,
   "id": "65409749",
   "metadata": {},
   "outputs": [],
   "source": [
    "##PHOTO OF DOG AFTER CROP\n",
    "cv2.imshow('dog_cropped',dog_crop)\n",
    "cv2.waitKey()\n",
    "cv2.destroyAllWindows()"
   ]
  },
  {
   "cell_type": "code",
   "execution_count": 144,
   "id": "1f30334f",
   "metadata": {},
   "outputs": [
    {
     "data": {
      "text/plain": [
       "(210, 250, 3)"
      ]
     },
     "execution_count": 144,
     "metadata": {},
     "output_type": "execute_result"
    }
   ],
   "source": [
    "##SIZE OF CROPPED_DOG_PHOTO\n",
    "dog_crop.shape"
   ]
  },
  {
   "cell_type": "code",
   "execution_count": 145,
   "id": "21efedff",
   "metadata": {},
   "outputs": [
    {
     "data": {
      "text/plain": [
       "(210, 250, 3)"
      ]
     },
     "execution_count": 145,
     "metadata": {},
     "output_type": "execute_result"
    }
   ],
   "source": [
    "##SIZE OF CROPPED_WHALE_PHOTO\n",
    "whale_crop.shape\n",
    "##SIZE OF BOTH THE CROPPED IMAGES MUST BE SAME THE MOST IMP. POINTTT!!!!!!!!!!!!!!!"
   ]
  },
  {
   "cell_type": "code",
   "execution_count": 146,
   "id": "363c749f",
   "metadata": {},
   "outputs": [],
   "source": [
    "##SWAPPING THE CROPPED PARTS OF THE PICTURES\n",
    "temp_img=numpy.zeros((500,500,3))\n",
    "temp_img[90:300,150:400]=photo_dog[90:300,150:400]\n",
    "photo_dog[90:300,150:400]=photo_whale[140:350,200:450]\n",
    "photo_whale[140:350,200:450]=temp_img[90:300,150:400]\n",
    "\n"
   ]
  },
  {
   "cell_type": "code",
   "execution_count": 147,
   "id": "b962e2d9",
   "metadata": {},
   "outputs": [],
   "source": [
    "cv2.imshow('dog_after_swap',photo_dog)\n",
    "cv2.waitKey()\n",
    "cv2.destroyAllWindows()"
   ]
  },
  {
   "cell_type": "code",
   "execution_count": 148,
   "id": "60e5e86c",
   "metadata": {},
   "outputs": [],
   "source": [
    "cv2.imshow('whale_after_swap',photo_whale)\n",
    "cv2.waitKey()\n",
    "cv2.destroyAllWindows()"
   ]
  },
  {
   "cell_type": "code",
   "execution_count": 149,
   "id": "0af849a2",
   "metadata": {},
   "outputs": [],
   "source": [
    "##COMBINING THE CROPPED IMAGES\n",
    "combine=numpy.hstack((dog_crop,whale_crop))\n",
    "cv2.imshow('combined',combine)\n",
    "cv2.waitKey()\n",
    "cv2.destroyAllWindows()"
   ]
  },
  {
   "cell_type": "code",
   "execution_count": 150,
   "id": "8e7847ed",
   "metadata": {},
   "outputs": [],
   "source": [
    "##CREATING A SIMPLE IMAGE \n",
    "image=numpy.zeros((500,500,3))\n",
    "image[100:400,100:150]=[150,222,250]\n",
    "image[230:270,150:280]=[150,222,250]\n",
    "image[100:150,150:280]=[150,222,250]\n",
    "image[350:400,150:280]=[111,222,250]"
   ]
  },
  {
   "cell_type": "code",
   "execution_count": 151,
   "id": "4e93a722",
   "metadata": {},
   "outputs": [],
   "source": [
    "cv2.imshow('mine',image)\n",
    "cv2.waitKey()\n",
    "cv2.destroyAllWindows()"
   ]
  },
  {
   "cell_type": "code",
   "execution_count": null,
   "id": "d37761e3",
   "metadata": {},
   "outputs": [],
   "source": []
  },
  {
   "cell_type": "code",
   "execution_count": null,
   "id": "56622adf",
   "metadata": {},
   "outputs": [],
   "source": []
  }
 ],
 "metadata": {
  "kernelspec": {
   "display_name": "Python 3",
   "language": "python",
   "name": "python3"
  },
  "language_info": {
   "codemirror_mode": {
    "name": "ipython",
    "version": 3
   },
   "file_extension": ".py",
   "mimetype": "text/x-python",
   "name": "python",
   "nbconvert_exporter": "python",
   "pygments_lexer": "ipython3",
   "version": "3.6.4"
  }
 },
 "nbformat": 4,
 "nbformat_minor": 5
}
